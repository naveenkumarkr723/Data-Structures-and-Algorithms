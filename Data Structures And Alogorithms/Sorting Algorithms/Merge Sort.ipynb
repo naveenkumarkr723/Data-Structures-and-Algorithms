{
 "cells": [
  {
   "cell_type": "markdown",
   "metadata": {},
   "source": [
    "## Algorithm:\n",
    "\n",
    "1. split the unsorted list.\n",
    "\n",
    "2. comapre each of the elements and group them\n",
    "\n",
    "3. repeat step 2 untill whole list is merged and sorted."
   ]
  },
  {
   "cell_type": "code",
   "execution_count": 5,
   "metadata": {},
   "outputs": [
    {
     "name": "stdout",
     "output_type": "stream",
     "text": [
      "the sorted list is  [1, 2, 4, 5, 6, 7, 8, 9]\n"
     ]
    }
   ],
   "source": [
    "def merge_sort(list1):\n",
    "    if len(list1) > 1:\n",
    "        mid = len(list1)//2\n",
    "        left_list = list1[ :mid]\n",
    "        right_list = list1[mid: ]\n",
    "        merge_sort(left_list)\n",
    "        merge_sort(right_list)\n",
    "        \n",
    "        i = 0 \n",
    "        j = 0\n",
    "        k = 0\n",
    "        \n",
    "        while i<len(left_list) and j<len(right_list) :\n",
    "            \n",
    "            if left_list[i] < right_list[j]:\n",
    "                list1[k] = left_list[i]\n",
    "                i = i+1\n",
    "                k = k+1\n",
    "            else:\n",
    "                list1[k] = right_list[j]\n",
    "                j = j+1\n",
    "                k = k+1\n",
    "        while i < len(left_list):\n",
    "            list1[k] = left_list[i]\n",
    "            i = i+1\n",
    "            k = k+1\n",
    "        while j < len(right_list):\n",
    "            list1[k] = right_list[j]\n",
    "            j = j+1\n",
    "            k = k+1\n",
    "\n",
    "            \n",
    "list1 = [5,6,4,2,8,1,9,7]            \n",
    "merge_sort(list1)\n",
    "print(\"the sorted list is \", list1)"
   ]
  },
  {
   "cell_type": "code",
   "execution_count": 6,
   "metadata": {},
   "outputs": [
    {
     "name": "stdout",
     "output_type": "stream",
     "text": [
      "the sorted list is  [9, 8, 7, 6, 5, 4, 2, 1]\n"
     ]
    }
   ],
   "source": [
    "def merge_sort(list1):\n",
    "    if len(list1) > 1:\n",
    "        mid = len(list1)//2\n",
    "        left_list = list1[ :mid]\n",
    "        right_list = list1[mid: ]\n",
    "        merge_sort(left_list)\n",
    "        merge_sort(right_list)\n",
    "        \n",
    "        i = 0 \n",
    "        j = 0\n",
    "        k = 0\n",
    "        \n",
    "        while i<len(left_list) and j<len(right_list) :\n",
    "            \n",
    "            if left_list[i] > right_list[j]:\n",
    "                list1[k] = left_list[i]\n",
    "                i = i+1\n",
    "                k = k+1\n",
    "            else:\n",
    "                list1[k] = right_list[j]\n",
    "                j = j+1\n",
    "                k = k+1\n",
    "        while i < len(left_list):\n",
    "            list1[k] = left_list[i]\n",
    "            i = i+1\n",
    "            k = k+1\n",
    "        while j < len(right_list):\n",
    "            list1[k] = right_list[j]\n",
    "            j = j+1\n",
    "            k = k+1\n",
    "\n",
    "            \n",
    "list1 = [5,6,4,2,8,1,9,7]            \n",
    "merge_sort(list1)\n",
    "print(\"the sorted list is \", list1)"
   ]
  },
  {
   "cell_type": "code",
   "execution_count": null,
   "metadata": {},
   "outputs": [],
   "source": []
  }
 ],
 "metadata": {
  "kernelspec": {
   "display_name": "Python 3",
   "language": "python",
   "name": "python3"
  },
  "language_info": {
   "codemirror_mode": {
    "name": "ipython",
    "version": 3
   },
   "file_extension": ".py",
   "mimetype": "text/x-python",
   "name": "python",
   "nbconvert_exporter": "python",
   "pygments_lexer": "ipython3",
   "version": "3.7.6"
  }
 },
 "nbformat": 4,
 "nbformat_minor": 4
}
