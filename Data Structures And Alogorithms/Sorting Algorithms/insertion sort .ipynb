{
 "cells": [
  {
   "cell_type": "markdown",
   "metadata": {},
   "source": [
    "## Insertion Sort:\n",
    "\n",
    "> \"is a simple sorting algorithm, that builds the final sorted list one item at a time\"\n",
    "\n",
    "\n",
    "### Algorithm:\n",
    "\n",
    "    1. consider the first element to be sorted and the rest to be unsorted.\n",
    "\n",
    "    2. take the first element in the unsorted part(u1) and compare it with sorted part elements(s1).\n",
    "\n",
    "    3. if u1<s1 then insert u1 in the correct index, else leave it as it is.\n",
    "\n",
    "    4. take next element in the unsorted part and compare with sorted elements.\n",
    "\n",
    "    5. Repeat 3 and 4 untill all the elements are sorted."
   ]
  },
  {
   "cell_type": "code",
   "execution_count": 1,
   "metadata": {},
   "outputs": [
    {
     "name": "stdout",
     "output_type": "stream",
     "text": [
      "[3, 4, 5, 7, 8, 9]\n"
     ]
    }
   ],
   "source": [
    "def insertion_sort(list1):\n",
    "    for index in range(1,len(list1)):\n",
    "        current_element =list1[index]\n",
    "        pos = index\n",
    "        while current_element < list1[pos-1] and pos > 0 :\n",
    "            \n",
    "            list1[pos] = list1[pos-1]\n",
    "            pos = pos-1\n",
    "        list1[pos] = current_element\n",
    "        \n",
    "list1 = [7,4,9,8,3,5]\n",
    "insertion_sort(list1)\n",
    "print(list1)"
   ]
  },
  {
   "cell_type": "code",
   "execution_count": 2,
   "metadata": {},
   "outputs": [
    {
     "name": "stdout",
     "output_type": "stream",
     "text": [
      "[9, 8, 7, 5, 4, 3]\n"
     ]
    }
   ],
   "source": [
    "def insertion_sort(list1):\n",
    "    for index in range(1,len(list1)):\n",
    "        current_element =list1[index]\n",
    "        pos = index\n",
    "        while current_element > list1[pos-1] and pos > 0 :\n",
    "            \n",
    "            list1[pos] = list1[pos-1]\n",
    "            pos = pos-1\n",
    "        list1[pos] = current_element\n",
    "        \n",
    "list1 = [7,4,9,8,3,5]\n",
    "insertion_sort(list1)\n",
    "print(list1)"
   ]
  },
  {
   "cell_type": "markdown",
   "metadata": {},
   "source": [
    "### difference between the insertion sort and selection sort\n",
    "\n",
    "### Insertion sort\n",
    "\n",
    "    Take the element immediately following the sorted data, scan through the sorted data to find the place to put it, \n",
    "    and put it there.\n",
    "\n",
    "    Repeat untill finished.\n",
    "\n",
    "### Selection sort\n",
    "\n",
    "    scan through the unsorted data looking for the smallest remaining element, then swap it into the position immediately following the sorted data.\n",
    "\n",
    "    Repeat untill finished."
   ]
  },
  {
   "cell_type": "code",
   "execution_count": null,
   "metadata": {},
   "outputs": [],
   "source": []
  }
 ],
 "metadata": {
  "kernelspec": {
   "display_name": "Python 3",
   "language": "python",
   "name": "python3"
  },
  "language_info": {
   "codemirror_mode": {
    "name": "ipython",
    "version": 3
   },
   "file_extension": ".py",
   "mimetype": "text/x-python",
   "name": "python",
   "nbconvert_exporter": "python",
   "pygments_lexer": "ipython3",
   "version": "3.7.6"
  }
 },
 "nbformat": 4,
 "nbformat_minor": 4
}
