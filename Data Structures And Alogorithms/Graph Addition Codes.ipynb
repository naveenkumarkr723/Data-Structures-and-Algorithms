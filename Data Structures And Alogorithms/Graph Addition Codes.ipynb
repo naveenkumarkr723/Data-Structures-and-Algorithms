{
 "cells": [
  {
   "cell_type": "markdown",
   "metadata": {},
   "source": [
    "## Functions to add the Adjacency Matrix Representation"
   ]
  },
  {
   "cell_type": "code",
   "execution_count": 22,
   "metadata": {},
   "outputs": [
    {
     "name": "stdout",
     "output_type": "stream",
     "text": [
      "after creating the graph is --> [[0, 1, 0], [1, 0, 1], [0, 1, 0]]\n",
      "\n",
      "the graph representation  \n",
      "0     1     0     \n",
      "1     0     1     \n",
      "0     1     0     \n"
     ]
    }
   ],
   "source": [
    "def add_node (v) :\n",
    "    global node_count\n",
    "    \n",
    "    \n",
    "    if v in nodes :\n",
    "        print(v, \"is already present in the graph\")\n",
    "\n",
    "    else:\n",
    "        node_count = node_count + 1\n",
    "        nodes.append(v)\n",
    "        for n in graph:\n",
    "            n.append(0)    #### addition of a new column\n",
    "\n",
    "        temp = []   #### addition of a new row\n",
    "        for i in range(node_count) :\n",
    "            temp.append(0)\n",
    "        graph.append(temp)\n",
    "\n",
    "\n",
    "def add_edge(v1,v2):\n",
    "    if v1 not in nodes:\n",
    "        print(v1, \"node/vertex is not present in the graph\")\n",
    "    elif v2 not in nodes:\n",
    "        print(v2, \"node/vertex is not present in the graph\")\n",
    "    else:\n",
    "        index1 = nodes.index(v1)\n",
    "        index2 = nodes.index(v2)\n",
    "        \n",
    "        ### setting the values for the edges which connected with each other\n",
    "        graph[index1][index2] = 1\n",
    "        graph[index2][index1] = 1\n",
    "\n",
    "        \n",
    "        \n",
    "def print_graph():\n",
    "    for i in range(node_count):\n",
    "        for j in range(node_count):\n",
    "            print(format(graph[i][j],'<5') ,end = ' ')\n",
    "        print( )\n",
    "        \n",
    "        \n",
    "        \n",
    "nodes = []\n",
    "graph = []\n",
    "node_count = 0\n",
    "\n",
    "####  Adding a new nodes\n",
    "add_node(\"A\")\n",
    "add_node(\"B\")\n",
    "add_node(\"C\")\n",
    "\n",
    "\n",
    "### adding the edges for the given nodes/vetices  for the undirected unweigthed\n",
    "add_edge(\"A\",\"B\")\n",
    "add_edge(\"C\",\"B\")\n",
    "\n",
    "print(\"after creating the graph is -->\", graph )\n",
    "print()\n",
    "\n",
    "\n",
    "print(\"the graph representation  \")\n",
    "print_graph()"
   ]
  },
  {
   "cell_type": "code",
   "execution_count": 23,
   "metadata": {},
   "outputs": [
    {
     "name": "stdout",
     "output_type": "stream",
     "text": [
      "after creating the graph is --> [[0, 12, 0], [12, 0, 19], [0, 19, 0]]\n",
      "\n",
      "the graph representation  \n",
      "0     12    0     \n",
      "12    0     19    \n",
      "0     19    0     \n"
     ]
    }
   ],
   "source": [
    "def add_node (v) :\n",
    "    global node_count\n",
    "    \n",
    "    \n",
    "    if v in nodes :\n",
    "        print(v, \"is already present in the graph\")\n",
    "\n",
    "    else:\n",
    "        node_count = node_count + 1\n",
    "        nodes.append(v)\n",
    "        for n in graph:\n",
    "            n.append(0)    #### addition of a new column\n",
    "\n",
    "        temp = []   #### addition of a new row\n",
    "        for i in range(node_count) :\n",
    "            temp.append(0)\n",
    "        graph.append(temp)\n",
    "\n",
    "\n",
    "def add_edge(v1,v2, cost ):\n",
    "    if v1 not in nodes:\n",
    "        print(v1, \"node/vertex is not present in the graph\")\n",
    "    elif v2 not in nodes:\n",
    "        print(v2, \"node/vertex is not present in the graph\")\n",
    "    else:\n",
    "        index1 = nodes.index(v1)\n",
    "        index2 = nodes.index(v2)\n",
    "        \n",
    "        ### setting the values for the edges which connected with each other\n",
    "        graph[index1][index2] = cost\n",
    "        graph[index2][index1] = cost\n",
    "\n",
    "        \n",
    "        \n",
    "def print_graph():\n",
    "    for i in range(node_count):\n",
    "        for j in range(node_count):\n",
    "            print(format(graph[i][j],'<5') ,end = ' ')\n",
    "        print( )\n",
    "        \n",
    "        \n",
    "        \n",
    "nodes = []\n",
    "graph = []\n",
    "node_count = 0\n",
    "\n",
    "####  Adding a new nodes\n",
    "add_node(\"A\")\n",
    "add_node(\"B\")\n",
    "add_node(\"C\")\n",
    "\n",
    "\n",
    "### adding the edges for the given nodes/vetices   for the undirected weigthed graph \n",
    "add_edge(\"A\",\"B\",12)\n",
    "add_edge(\"C\",\"B\",19)\n",
    "\n",
    "print(\"after creating the graph is -->\", graph )\n",
    "print()\n",
    "\n",
    "\n",
    "print(\"the graph representation  \")\n",
    "print_graph()"
   ]
  },
  {
   "cell_type": "code",
   "execution_count": 24,
   "metadata": {},
   "outputs": [
    {
     "name": "stdout",
     "output_type": "stream",
     "text": [
      "after creating the graph is --> [[0, 12, 0], [0, 0, 0], [0, 19, 0]]\n",
      "\n",
      "the graph representation  \n",
      "0     12    0     \n",
      "0     0     0     \n",
      "0     19    0     \n"
     ]
    }
   ],
   "source": [
    "def add_node (v) :\n",
    "    global node_count\n",
    "    \n",
    "    \n",
    "    if v in nodes :\n",
    "        print(v, \"is already present in the graph\")\n",
    "\n",
    "    else:\n",
    "        node_count = node_count + 1\n",
    "        nodes.append(v)\n",
    "        for n in graph:\n",
    "            n.append(0)    #### addition of a new column\n",
    "\n",
    "        temp = []   #### addition of a new row\n",
    "        for i in range(node_count) :\n",
    "            temp.append(0)\n",
    "        graph.append(temp)\n",
    "\n",
    "\n",
    "def add_edge(v1,v2, cost ):\n",
    "    if v1 not in nodes:\n",
    "        print(v1, \"node/vertex is not present in the graph\")\n",
    "    elif v2 not in nodes:\n",
    "        print(v2, \"node/vertex is not present in the graph\")\n",
    "    else:\n",
    "        index1 = nodes.index(v1)\n",
    "        index2 = nodes.index(v2)\n",
    "        \n",
    "        ### setting the values for the edges which connected with each other \n",
    "        graph[index1][index2] = cost\n",
    "        #graph[index2][index1] = cost\n",
    "\n",
    "        \n",
    "        \n",
    "def print_graph():\n",
    "    for i in range(node_count):\n",
    "        for j in range(node_count):\n",
    "            print(format(graph[i][j],'<5') ,end = ' ')\n",
    "        print( )\n",
    "        \n",
    "        \n",
    "        \n",
    "nodes = []\n",
    "graph = []\n",
    "node_count = 0\n",
    "\n",
    "####  Adding a new nodes\n",
    "add_node(\"A\")\n",
    "add_node(\"B\")\n",
    "add_node(\"C\")\n",
    "\n",
    "\n",
    "### adding the edges for the given nodes/vetices for the directed weigthed graph \n",
    "add_edge(\"A\",\"B\",12)\n",
    "add_edge(\"C\",\"B\",19)\n",
    "\n",
    "print(\"after creating the graph is -->\", graph )\n",
    "print()\n",
    "\n",
    "\n",
    "print(\"the graph representation  \")\n",
    "print_graph()"
   ]
  },
  {
   "cell_type": "code",
   "execution_count": 25,
   "metadata": {},
   "outputs": [],
   "source": [
    "# print(\"Before adding nodes\")\n",
    "# print (\"nodes:\",nodes)\n",
    "# print (graph)\n",
    "\n",
    "# print(\"After adding nodes\")\n",
    "# print (\"nodes:\", nodes)\n",
    "# print (graph)"
   ]
  },
  {
   "cell_type": "code",
   "execution_count": null,
   "metadata": {},
   "outputs": [],
   "source": []
  },
  {
   "cell_type": "code",
   "execution_count": null,
   "metadata": {},
   "outputs": [],
   "source": []
  },
  {
   "cell_type": "code",
   "execution_count": null,
   "metadata": {},
   "outputs": [],
   "source": []
  },
  {
   "cell_type": "markdown",
   "metadata": {},
   "source": [
    "## Functions to add the Adjacency List Representation"
   ]
  },
  {
   "cell_type": "code",
   "execution_count": 30,
   "metadata": {},
   "outputs": [
    {
     "name": "stdout",
     "output_type": "stream",
     "text": [
      "{'A': [], 'B': []}\n"
     ]
    }
   ],
   "source": [
    "def graph_list(v):\n",
    "    if v in graph :\n",
    "        print(v,\"the given key is already present in the graph\")\n",
    "    else:\n",
    "        graph[v] = []\n",
    "        \n",
    "graph = {}\n",
    "\n",
    "graph_list(\"A\")\n",
    "graph_list(\"B\")\n",
    "print(graph)"
   ]
  },
  {
   "cell_type": "markdown",
   "metadata": {},
   "source": [
    "## Function to add an edge using adjagency list representation\n",
    "\n",
    "### undirected and unweighted graph"
   ]
  },
  {
   "cell_type": "code",
   "execution_count": 33,
   "metadata": {},
   "outputs": [
    {
     "name": "stdout",
     "output_type": "stream",
     "text": [
      "{'A': ['B'], 'B': ['A']}\n"
     ]
    }
   ],
   "source": [
    "def graph_list(v):\n",
    "    if v in graph :\n",
    "        print(v,\"the given key is already present in the graph\")\n",
    "    else:\n",
    "        graph[v] = []\n",
    "\n",
    "def add_edge(v1,v2):\n",
    "    if v1 not in graph:\n",
    "        print(v1, \"node/vertex is not present in the graph\")\n",
    "    elif v2 not in graph:\n",
    "        print(v2, \"node/vertex is not present in the graph\")\n",
    "    else:\n",
    "        graph[v1].append(v2)\n",
    "        graph[v2].append(v1)\n",
    "        \n",
    "        \n",
    "    \n",
    "        \n",
    "        \n",
    "graph = {}\n",
    "\n",
    "\n",
    "graph_list(\"A\")\n",
    "graph_list(\"B\")\n",
    "\n",
    "\n",
    "### adding an edge to the graph \n",
    "add_edge(\"A\" , \"B\")\n",
    "\n",
    "print(graph)"
   ]
  },
  {
   "cell_type": "markdown",
   "metadata": {},
   "source": [
    "### undirected and weighted graph"
   ]
  },
  {
   "cell_type": "code",
   "execution_count": 34,
   "metadata": {},
   "outputs": [
    {
     "name": "stdout",
     "output_type": "stream",
     "text": [
      "{'A': [['B', 200]], 'B': [['A', 200], ['C', 24]], 'C': [['B', 24]]}\n"
     ]
    }
   ],
   "source": [
    "def graph_list(v):\n",
    "    if v in graph :\n",
    "        print(v,\"the given key is already present in the graph\")\n",
    "    else:\n",
    "        graph[v] = []\n",
    "\n",
    "def add_edge(v1,v2, cost):\n",
    "    if v1 not in graph:\n",
    "        print(v1, \"node/vertex is not present in the graph\")\n",
    "    elif v2 not in graph:\n",
    "        print(v2, \"node/vertex is not present in the graph\")\n",
    "    else:\n",
    "        list1 = [v2,cost]\n",
    "        list2 = [v1,cost]\n",
    "        graph[v1].append(list1)\n",
    "        graph[v2].append(list2)\n",
    "        \n",
    "        \n",
    "    \n",
    "        \n",
    "        \n",
    "graph = {}\n",
    "\n",
    "\n",
    "graph_list(\"A\")\n",
    "graph_list(\"B\")\n",
    "graph_list(\"C\")\n",
    "\n",
    "\n",
    "### adding an edge to the graph \n",
    "add_edge(\"A\" , \"B\", 200)\n",
    "add_edge(\"C\" , \"B\", 24)\n",
    "\n",
    "\n",
    "print(graph)"
   ]
  },
  {
   "cell_type": "markdown",
   "metadata": {},
   "source": [
    "### directed and unweighted graph"
   ]
  },
  {
   "cell_type": "code",
   "execution_count": 37,
   "metadata": {},
   "outputs": [
    {
     "name": "stdout",
     "output_type": "stream",
     "text": [
      "{'A': ['B'], 'B': [], 'C': ['B']}\n"
     ]
    }
   ],
   "source": [
    "def graph_list(v):\n",
    "    if v in graph :\n",
    "        print(v,\"the given key is already present in the graph\")\n",
    "    else:\n",
    "        graph[v] = []\n",
    "\n",
    "def add_edge(v1,v2):\n",
    "    if v1 not in graph:\n",
    "        print(v1, \"node/vertex is not present in the graph\")\n",
    "    elif v2 not in graph:\n",
    "        print(v2, \"node/vertex is not present in the graph\")\n",
    "    else:\n",
    "        #list1 = [v2,cost]\n",
    "        #list2 = [v1,cost]\n",
    "        \n",
    "        graph[v1].append(v2)\n",
    "        #graph[v2].append(list2)\n",
    "        \n",
    "        \n",
    "graph = {}\n",
    "\n",
    "graph_list(\"A\")\n",
    "graph_list(\"B\")\n",
    "graph_list(\"C\")\n",
    "\n",
    "\n",
    "### adding an edge to the graph \n",
    "add_edge(\"A\" , \"B\")\n",
    "add_edge(\"C\" , \"B\")\n",
    "\n",
    "\n",
    "print(graph)"
   ]
  },
  {
   "cell_type": "markdown",
   "metadata": {},
   "source": [
    "### directed and weighted graph"
   ]
  },
  {
   "cell_type": "code",
   "execution_count": 39,
   "metadata": {},
   "outputs": [
    {
     "name": "stdout",
     "output_type": "stream",
     "text": [
      "{'A': [['B', 200]], 'B': [['A', 55]], 'C': [['B', 24]]}\n"
     ]
    }
   ],
   "source": [
    "def graph_list(v):\n",
    "    if v in graph :\n",
    "        print(v,\"the given key is already present in the graph\")\n",
    "    else:\n",
    "        graph[v] = []\n",
    "\n",
    "def add_edge(v1,v2, cost):\n",
    "    if v1 not in graph:\n",
    "        print(v1, \"node/vertex is not present in the graph\")\n",
    "    elif v2 not in graph:\n",
    "        print(v2, \"node/vertex is not present in the graph\")\n",
    "    else:\n",
    "        list1 = [v2,cost]\n",
    "        #list2 = [v1,cost]\n",
    "        graph[v1].append(list1)\n",
    "        #graph[v2].append(list2)\n",
    "        \n",
    "        \n",
    "    \n",
    "        \n",
    "graph = {}\n",
    "\n",
    "\n",
    "graph_list(\"A\")\n",
    "graph_list(\"B\")\n",
    "graph_list(\"C\")\n",
    "\n",
    "\n",
    "### adding an edge to the graph \n",
    "add_edge(\"A\" , \"B\", 200)\n",
    "add_edge(\"C\" , \"B\", 24)\n",
    "add_edge(\"B\",\"A\" , 55)\n",
    "\n",
    "\n",
    "print(graph)"
   ]
  },
  {
   "cell_type": "code",
   "execution_count": null,
   "metadata": {},
   "outputs": [],
   "source": []
  }
 ],
 "metadata": {
  "kernelspec": {
   "display_name": "Python 3",
   "language": "python",
   "name": "python3"
  },
  "language_info": {
   "codemirror_mode": {
    "name": "ipython",
    "version": 3
   },
   "file_extension": ".py",
   "mimetype": "text/x-python",
   "name": "python",
   "nbconvert_exporter": "python",
   "pygments_lexer": "ipython3",
   "version": "3.7.6"
  }
 },
 "nbformat": 4,
 "nbformat_minor": 4
}
