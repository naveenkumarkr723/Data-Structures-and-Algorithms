{
 "cells": [
  {
   "cell_type": "markdown",
   "metadata": {},
   "source": [
    "## Data Structures are mainly two types they are \n",
    "\n",
    "### 1) Built - in  \n",
    "        List\n",
    "        Tuple\n",
    "        Set \n",
    "        Dictionery\n",
    "\n",
    "    \n",
    "### 2) User defined\n",
    "        Stack\n",
    "        Queue\n",
    "        Limked List\n",
    "        Tree \n",
    "        Graph\n",
    "\n",
    "    "
   ]
  },
  {
   "cell_type": "markdown",
   "metadata": {},
   "source": [
    "## Stack \n",
    "\n",
    "stack stores the data in the manner\n",
    "- Last In First Out LIFO \n",
    "- OR First In Last Out FILO\n",
    "\n",
    "the addition of the new item and removal of  item takes at a time\n",
    "\n",
    "### STACK OPERATIONS\n",
    "    push           -- add the new element\n",
    "    pop            -- removal of last element\n",
    "    peek or top    -- top of the stack element \n",
    "    isempty        -- whether the stack is empty or not (not is also used for the check the stack is empty or not)"
   ]
  },
  {
   "cell_type": "markdown",
   "metadata": {},
   "source": [
    "Implement Stack Using List :\n",
    "   \n",
    "    push -- append \n",
    "    pop -- pop"
   ]
  },
  {
   "cell_type": "code",
   "execution_count": 5,
   "metadata": {},
   "outputs": [
    {
     "name": "stdout",
     "output_type": "stream",
     "text": [
      "select the options 1.push 2.pop 3.quit the program\n",
      "21\n",
      "enter the correct options\n",
      "select the options 1.push 2.pop 3.quit the program\n",
      "1\n",
      "enter the element which you are want to push23\n",
      "[23]\n",
      "select the options 1.push 2.pop 3.quit the program\n",
      "1\n",
      "enter the element which you are want to push25\n",
      "[23, 25]\n",
      "select the options 1.push 2.pop 3.quit the program\n",
      "1\n",
      "enter the element which you are want to push26\n",
      "[23, 25, 26]\n",
      "select the options 1.push 2.pop 3.quit the program\n",
      "1\n",
      "enter the element which you are want to push22\n",
      "[23, 25, 26, 22]\n",
      "select the options 1.push 2.pop 3.quit the program\n",
      "2\n",
      "the removed element is the : 22\n",
      "[23, 25, 26]\n",
      "select the options 1.push 2.pop 3.quit the program\n",
      "3\n",
      "the stack after performing the tasks : [23, 25, 26]\n"
     ]
    }
   ],
   "source": [
    "### Example of the stack \n",
    "\n",
    "stack = []\n",
    "\n",
    "## defining the push operation\n",
    "def pushing():\n",
    "    push = int(input(\"enter the element which you are want to push\"))\n",
    "    stack.append(push)\n",
    "    print(stack)\n",
    "    \n",
    "def removing():\n",
    "    if not stack:\n",
    "        print(\"the stack is empty \")\n",
    "    else:\n",
    "        #print(\"enter the element which you are want to pop or remove from the last \")\n",
    "        e = stack.pop()\n",
    "        \n",
    "        print(\"the removed element is the :\",e)\n",
    "        print(stack)\n",
    "    \n",
    "    \n",
    "    \n",
    "while True:\n",
    "    print(\"select the options 1.push 2.pop 3.quit the program\")\n",
    "    choice = int(input())\n",
    "    \n",
    "    if choice == 1:\n",
    "        pushing()\n",
    "    elif choice == 2:\n",
    "        removing()\n",
    "    elif choice == 3:\n",
    "        print(\"the stack after performing the tasks :\",stack)\n",
    "        break\n",
    "    else:\n",
    "        print(\"enter the correct options\")"
   ]
  },
  {
   "cell_type": "code",
   "execution_count": 6,
   "metadata": {},
   "outputs": [
    {
     "name": "stdout",
     "output_type": "stream",
     "text": [
      "enter the maximum number of the list you want3\n",
      "select the options 1.push 2.pop 3.quit the program\n",
      "1\n",
      "enter the element which you are want to push23\n",
      "[23]\n",
      "select the options 1.push 2.pop 3.quit the program\n",
      "1\n",
      "enter the element which you are want to push25\n",
      "[23, 25]\n",
      "select the options 1.push 2.pop 3.quit the program\n",
      "1\n",
      "enter the element which you are want to push26\n",
      "[23, 25, 26]\n",
      "select the options 1.push 2.pop 3.quit the program\n",
      "23\n",
      "enter the correct options\n",
      "select the options 1.push 2.pop 3.quit the program\n",
      "1\n",
      "the list is full no further addition will happen\n",
      "select the options 1.push 2.pop 3.quit the program\n",
      "2\n",
      "the removed element is the : 26\n",
      "[23, 25]\n",
      "select the options 1.push 2.pop 3.quit the program\n",
      "3\n",
      "the stack after performing the tasks : [23, 25]\n"
     ]
    }
   ],
   "source": [
    "\n",
    "### Example of the stack  with user choice \n",
    "\n",
    "stack = []\n",
    "\n",
    "## defining the push operation\n",
    "def pushing():\n",
    "    if len(stack)==n:\n",
    "        print(\"the list is full no further addition will happen\")\n",
    "    else:\n",
    "        push = int(input(\"enter the element which you are want to push\"))\n",
    "        stack.append(push)\n",
    "        print(stack)\n",
    "\n",
    "def removing():\n",
    "    if not stack:\n",
    "        print(\"the stack is empty \")\n",
    "    else:\n",
    "        #print(\"enter the element which you are want to pop or remove from the last \")\n",
    "        e = stack.pop()\n",
    "        \n",
    "        print(\"the removed element is the :\",e)\n",
    "        print(stack)\n",
    "    \n",
    "    \n",
    "n = int(input(\"enter the maximum number of the list you want\"))    \n",
    "while True:\n",
    "    print(\"select the options 1.push 2.pop 3.quit the program\")\n",
    "    choice = int(input())\n",
    "    \n",
    "    if choice == 1:\n",
    "        pushing()\n",
    "    elif choice == 2:\n",
    "        removing()\n",
    "    elif choice == 3:\n",
    "        print(\"the stack after performing the tasks :\",stack)\n",
    "        break\n",
    "    else:\n",
    "        print(\"enter the correct options\")"
   ]
  },
  {
   "cell_type": "code",
   "execution_count": null,
   "metadata": {},
   "outputs": [],
   "source": []
  },
  {
   "cell_type": "code",
   "execution_count": null,
   "metadata": {},
   "outputs": [],
   "source": []
  },
  {
   "cell_type": "code",
   "execution_count": 10,
   "metadata": {},
   "outputs": [
    {
     "data": {
      "text/plain": [
       "deque([])"
      ]
     },
     "execution_count": 10,
     "metadata": {},
     "output_type": "execute_result"
    }
   ],
   "source": [
    "## Implement Stack using Modules\n",
    "\n",
    "## 1. Collection --->  deque(double ended queue)\n",
    "\n",
    "import collections \n",
    "stack = collections.deque()\n",
    "stack\n",
    "\n",
    "stack.append(10)\n",
    "stack.append(20)\n",
    "stack.append(30)\n",
    "\n",
    "stack.pop()\n",
    "stack.pop()\n",
    "stack.pop()\n",
    "\n",
    "#stack.pop()\n",
    "stack"
   ]
  },
  {
   "cell_type": "code",
   "execution_count": 3,
   "metadata": {},
   "outputs": [
    {
     "data": {
      "text/plain": [
       "20"
      ]
     },
     "execution_count": 3,
     "metadata": {},
     "output_type": "execute_result"
    }
   ],
   "source": [
    "## 2. Queue ---> put and get methods for this\n",
    "\n",
    "import queue \n",
    "stack = queue.LifoQueue()\n",
    "stack\n",
    "\n",
    "stack.put(10)\n",
    "stack.put(20)\n",
    "stack.put(30)\n",
    "#print(stack)\n",
    "\n",
    "\n",
    "stack.get()\n",
    "\n",
    "stack.get()\n",
    "#stack.get()\n",
    "#print(stack)"
   ]
  },
  {
   "cell_type": "code",
   "execution_count": 19,
   "metadata": {},
   "outputs": [
    {
     "data": {
      "text/plain": [
       "10"
      ]
     },
     "execution_count": 19,
     "metadata": {},
     "output_type": "execute_result"
    }
   ],
   "source": [
    "## 2. Queue ---> put and get methods for this\n",
    "\n",
    "import queue \n",
    "stack = queue.LifoQueue(3)\n",
    "stack\n",
    "\n",
    "stack.put(10)\n",
    "stack.put(20)\n",
    "stack.put(30)\n",
    "#print(stack)\n",
    "\n",
    "\n",
    "stack.get()\n",
    "stack.get()\n",
    "stack.get()\n",
    "#print(stack)"
   ]
  },
  {
   "cell_type": "code",
   "execution_count": null,
   "metadata": {},
   "outputs": [],
   "source": [
    "stack = queue.(3)\n",
    "stack"
   ]
  }
 ],
 "metadata": {
  "kernelspec": {
   "display_name": "Python 3",
   "language": "python",
   "name": "python3"
  },
  "language_info": {
   "codemirror_mode": {
    "name": "ipython",
    "version": 3
   },
   "file_extension": ".py",
   "mimetype": "text/x-python",
   "name": "python",
   "nbconvert_exporter": "python",
   "pygments_lexer": "ipython3",
   "version": "3.7.6"
  }
 },
 "nbformat": 4,
 "nbformat_minor": 4
}
